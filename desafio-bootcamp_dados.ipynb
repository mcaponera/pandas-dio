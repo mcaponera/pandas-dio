{
 "cells": [
  {
   "cell_type": "code",
   "execution_count": 1,
   "id": "f43ac730",
   "metadata": {},
   "outputs": [],
   "source": [
    "import pandas as pd\n",
    "import matplotlib.pyplot as plt\n",
    "plt.style.use(\"seaborn\")"
   ]
  },
  {
   "cell_type": "markdown",
   "id": "911d10ba",
   "metadata": {},
   "source": [
    "# Importando e conferindo o dataframe"
   ]
  },
  {
   "cell_type": "code",
   "execution_count": 2,
   "id": "9739b8c5",
   "metadata": {},
   "outputs": [],
   "source": [
    "df = pd.read_excel(\"datasets/AdventureWorks.xlsx\")"
   ]
  },
  {
   "cell_type": "code",
   "execution_count": 3,
   "id": "8db02417",
   "metadata": {},
   "outputs": [],
   "source": [
    "pd.options.display.float_format = '{:20,.2f}'.format #formatando os números de ponto flutuante"
   ]
  },
  {
   "cell_type": "code",
   "execution_count": 4,
   "id": "53259fbd",
   "metadata": {},
   "outputs": [
    {
     "data": {
      "text/html": [
       "<div>\n",
       "<style scoped>\n",
       "    .dataframe tbody tr th:only-of-type {\n",
       "        vertical-align: middle;\n",
       "    }\n",
       "\n",
       "    .dataframe tbody tr th {\n",
       "        vertical-align: top;\n",
       "    }\n",
       "\n",
       "    .dataframe thead th {\n",
       "        text-align: right;\n",
       "    }\n",
       "</style>\n",
       "<table border=\"1\" class=\"dataframe\">\n",
       "  <thead>\n",
       "    <tr style=\"text-align: right;\">\n",
       "      <th></th>\n",
       "      <th>Data Venda</th>\n",
       "      <th>Data Envio</th>\n",
       "      <th>ID Loja</th>\n",
       "      <th>ID Produto</th>\n",
       "      <th>ID Cliente</th>\n",
       "      <th>No. Venda</th>\n",
       "      <th>Custo Unitário</th>\n",
       "      <th>Preço Unitário</th>\n",
       "      <th>Quantidade</th>\n",
       "      <th>Valor Desconto</th>\n",
       "      <th>Valor Venda</th>\n",
       "      <th>Produto</th>\n",
       "      <th>Fabricante</th>\n",
       "      <th>Marca</th>\n",
       "      <th>Classe</th>\n",
       "      <th>Cor</th>\n",
       "    </tr>\n",
       "  </thead>\n",
       "  <tbody>\n",
       "    <tr>\n",
       "      <th>0</th>\n",
       "      <td>2008-05-09</td>\n",
       "      <td>2008-05-29</td>\n",
       "      <td>199</td>\n",
       "      <td>384</td>\n",
       "      <td>18839</td>\n",
       "      <td>200805093CS607</td>\n",
       "      <td>348.58</td>\n",
       "      <td>758.00</td>\n",
       "      <td>6</td>\n",
       "      <td>0.00</td>\n",
       "      <td>4,548.00</td>\n",
       "      <td>Adventure Works Laptop15.4W M1548 Red</td>\n",
       "      <td>Adventure Works</td>\n",
       "      <td>Adventure Works</td>\n",
       "      <td>Regular</td>\n",
       "      <td>Red</td>\n",
       "    </tr>\n",
       "    <tr>\n",
       "      <th>1</th>\n",
       "      <td>2008-05-12</td>\n",
       "      <td>2008-05-17</td>\n",
       "      <td>306</td>\n",
       "      <td>384</td>\n",
       "      <td>19051</td>\n",
       "      <td>200805123CS567</td>\n",
       "      <td>348.58</td>\n",
       "      <td>758.00</td>\n",
       "      <td>6</td>\n",
       "      <td>0.00</td>\n",
       "      <td>4,548.00</td>\n",
       "      <td>Adventure Works Laptop15.4W M1548 Red</td>\n",
       "      <td>Adventure Works</td>\n",
       "      <td>Adventure Works</td>\n",
       "      <td>Regular</td>\n",
       "      <td>Red</td>\n",
       "    </tr>\n",
       "    <tr>\n",
       "      <th>2</th>\n",
       "      <td>2008-05-14</td>\n",
       "      <td>2008-05-20</td>\n",
       "      <td>306</td>\n",
       "      <td>384</td>\n",
       "      <td>19052</td>\n",
       "      <td>200805143CS576</td>\n",
       "      <td>348.58</td>\n",
       "      <td>758.00</td>\n",
       "      <td>6</td>\n",
       "      <td>0.00</td>\n",
       "      <td>4,548.00</td>\n",
       "      <td>Adventure Works Laptop15.4W M1548 Red</td>\n",
       "      <td>Adventure Works</td>\n",
       "      <td>Adventure Works</td>\n",
       "      <td>Regular</td>\n",
       "      <td>Red</td>\n",
       "    </tr>\n",
       "  </tbody>\n",
       "</table>\n",
       "</div>"
      ],
      "text/plain": [
       "  Data Venda Data Envio  ID Loja  ID Produto  ID Cliente       No. Venda  \\\n",
       "0 2008-05-09 2008-05-29      199         384       18839  200805093CS607   \n",
       "1 2008-05-12 2008-05-17      306         384       19051  200805123CS567   \n",
       "2 2008-05-14 2008-05-20      306         384       19052  200805143CS576   \n",
       "\n",
       "        Custo Unitário       Preço Unitário  Quantidade       Valor Desconto  \\\n",
       "0               348.58               758.00           6                 0.00   \n",
       "1               348.58               758.00           6                 0.00   \n",
       "2               348.58               758.00           6                 0.00   \n",
       "\n",
       "           Valor Venda                                Produto  \\\n",
       "0             4,548.00  Adventure Works Laptop15.4W M1548 Red   \n",
       "1             4,548.00  Adventure Works Laptop15.4W M1548 Red   \n",
       "2             4,548.00  Adventure Works Laptop15.4W M1548 Red   \n",
       "\n",
       "        Fabricante            Marca   Classe  Cor  \n",
       "0  Adventure Works  Adventure Works  Regular  Red  \n",
       "1  Adventure Works  Adventure Works  Regular  Red  \n",
       "2  Adventure Works  Adventure Works  Regular  Red  "
      ]
     },
     "execution_count": 4,
     "metadata": {},
     "output_type": "execute_result"
    }
   ],
   "source": [
    "df.head(3)\n",
    "#Conferindo as 3 primeiras linhas do dataframe"
   ]
  },
  {
   "cell_type": "code",
   "execution_count": 5,
   "id": "9bc02ae8",
   "metadata": {},
   "outputs": [
    {
     "data": {
      "text/plain": [
       "Data Venda        datetime64[ns]\n",
       "Data Envio        datetime64[ns]\n",
       "ID Loja                    int64\n",
       "ID Produto                 int64\n",
       "ID Cliente                 int64\n",
       "No. Venda                 object\n",
       "Custo Unitário           float64\n",
       "Preço Unitário           float64\n",
       "Quantidade                 int64\n",
       "Valor Desconto           float64\n",
       "Valor Venda              float64\n",
       "Produto                   object\n",
       "Fabricante                object\n",
       "Marca                     object\n",
       "Classe                    object\n",
       "Cor                       object\n",
       "dtype: object"
      ]
     },
     "execution_count": 5,
     "metadata": {},
     "output_type": "execute_result"
    }
   ],
   "source": [
    "df.dtypes\n",
    "#verificando o tipo dos dados"
   ]
  },
  {
   "cell_type": "code",
   "execution_count": 6,
   "id": "af9c6822",
   "metadata": {},
   "outputs": [
    {
     "name": "stdout",
     "output_type": "stream",
     "text": [
      "<class 'pandas.core.frame.DataFrame'>\n",
      "RangeIndex: 904 entries, 0 to 903\n",
      "Data columns (total 16 columns):\n",
      " #   Column          Non-Null Count  Dtype         \n",
      "---  ------          --------------  -----         \n",
      " 0   Data Venda      904 non-null    datetime64[ns]\n",
      " 1   Data Envio      904 non-null    datetime64[ns]\n",
      " 2   ID Loja         904 non-null    int64         \n",
      " 3   ID Produto      904 non-null    int64         \n",
      " 4   ID Cliente      904 non-null    int64         \n",
      " 5   No. Venda       904 non-null    object        \n",
      " 6   Custo Unitário  904 non-null    float64       \n",
      " 7   Preço Unitário  904 non-null    float64       \n",
      " 8   Quantidade      904 non-null    int64         \n",
      " 9   Valor Desconto  904 non-null    float64       \n",
      " 10  Valor Venda     904 non-null    float64       \n",
      " 11  Produto         904 non-null    object        \n",
      " 12  Fabricante      904 non-null    object        \n",
      " 13  Marca           904 non-null    object        \n",
      " 14  Classe          904 non-null    object        \n",
      " 15  Cor             904 non-null    object        \n",
      "dtypes: datetime64[ns](2), float64(4), int64(4), object(6)\n",
      "memory usage: 113.1+ KB\n"
     ]
    }
   ],
   "source": [
    "df.info()\n",
    "#consultando os dados do dataframe"
   ]
  },
  {
   "cell_type": "code",
   "execution_count": 7,
   "id": "46de78bb",
   "metadata": {},
   "outputs": [
    {
     "data": {
      "text/plain": [
       "Data Venda        0\n",
       "Data Envio        0\n",
       "ID Loja           0\n",
       "ID Produto        0\n",
       "ID Cliente        0\n",
       "No. Venda         0\n",
       "Custo Unitário    0\n",
       "Preço Unitário    0\n",
       "Quantidade        0\n",
       "Valor Desconto    0\n",
       "Valor Venda       0\n",
       "Produto           0\n",
       "Fabricante        0\n",
       "Marca             0\n",
       "Classe            0\n",
       "Cor               0\n",
       "dtype: int64"
      ]
     },
     "execution_count": 7,
     "metadata": {},
     "output_type": "execute_result"
    }
   ],
   "source": [
    "df.isna().sum()\n",
    "#Verificando se existem dados nulos"
   ]
  },
  {
   "cell_type": "code",
   "execution_count": 8,
   "id": "cf9cdb3c",
   "metadata": {},
   "outputs": [
    {
     "data": {
      "text/plain": [
       "Index(['Data Venda', 'Data Envio', 'ID Loja', 'ID Produto', 'ID Cliente',\n",
       "       'No. Venda', 'Custo Unitário', 'Preço Unitário', 'Quantidade',\n",
       "       'Valor Desconto', 'Valor Venda', 'Produto', 'Fabricante', 'Marca',\n",
       "       'Classe', 'Cor'],\n",
       "      dtype='object')"
      ]
     },
     "execution_count": 8,
     "metadata": {},
     "output_type": "execute_result"
    }
   ],
   "source": [
    "df.columns\n",
    "#listando cabeçalhos"
   ]
  },
  {
   "cell_type": "markdown",
   "id": "0ef966a7",
   "metadata": {},
   "source": [
    "# Enriquecendo o Dataframe"
   ]
  },
  {
   "cell_type": "code",
   "execution_count": 9,
   "id": "4ffb16de",
   "metadata": {},
   "outputs": [],
   "source": [
    "df[\"Dias de Envio\"] = df[\"Data Envio\"] - df[\"Data Venda\"] \n",
    "#Cria nova coluna com o tempo de envio"
   ]
  },
  {
   "cell_type": "code",
   "execution_count": 10,
   "id": "e39f8d4b",
   "metadata": {},
   "outputs": [
    {
     "name": "stdout",
     "output_type": "stream",
     "text": [
      "0     20 days\n",
      "1      5 days\n",
      "2      6 days\n",
      "3      6 days\n",
      "4      7 days\n",
      "        ...  \n",
      "899   13 days\n",
      "900   11 days\n",
      "901    4 days\n",
      "902    4 days\n",
      "903    4 days\n",
      "Name: Dias de Envio, Length: 904, dtype: timedelta64[ns]\n"
     ]
    }
   ],
   "source": [
    "print(df[\"Dias de Envio\"])"
   ]
  },
  {
   "cell_type": "code",
   "execution_count": 11,
   "id": "f5f6b06f",
   "metadata": {},
   "outputs": [],
   "source": [
    "df[\"Dias de Envio\"] = (df[\"Data Envio\"] - df[\"Data Venda\"]).dt.days\n",
    "#Retira a string da coluna \"Dias de Envio\""
   ]
  },
  {
   "cell_type": "code",
   "execution_count": 12,
   "id": "154d98cf",
   "metadata": {},
   "outputs": [],
   "source": [
    "df[\"Custo Total\"] = df[\"Custo Unitário\"] * df[\"Quantidade\"] \n",
    "#Calcula o custo total em uma nova coluna"
   ]
  },
  {
   "cell_type": "code",
   "execution_count": 13,
   "id": "dfdb7c50",
   "metadata": {},
   "outputs": [],
   "source": [
    "df[\"Lucro Bruto\"] = df[\"Valor Venda\"] - df[\"Custo Total\"]\n",
    "#Calcula e cria a coluna 'Lucro Bruto'"
   ]
  },
  {
   "cell_type": "code",
   "execution_count": 14,
   "id": "de345296",
   "metadata": {},
   "outputs": [],
   "source": [
    "df[\"Lucro Líquido\"] = df[\"Lucro Bruto\"] - df[\"Valor Desconto\"] \n",
    "#'Lucro Líquido'"
   ]
  },
  {
   "cell_type": "markdown",
   "id": "7cf3c951",
   "metadata": {},
   "source": [
    "# Analisando os dados"
   ]
  },
  {
   "cell_type": "code",
   "execution_count": 15,
   "id": "e65858d5",
   "metadata": {},
   "outputs": [
    {
     "data": {
      "text/plain": [
       "Produto\n",
       "Headphone Adapter for Contoso Phone E130 Silver    25232\n",
       "Headphone Adapter for Contoso Phone E130 White     25008\n",
       "Adventure Works Laptop15.4W M1548 Black             1089\n",
       "Fabrikam Trendsetter 2/3'' 17mm X100 Grey           1087\n",
       "Adventure Works Laptop15.4W M1548 Red               1047\n",
       "Fabrikam Trendsetter 2/3'' 17mm X100 Black           926\n",
       "Fabrikam Trendsetter 1/3'' 8.5mm X200 Black          884\n",
       "Fabrikam Trendsetter 1/3'' 8.5mm X200 Grey           845\n",
       "Fabrikam Trendsetter 1/3'' 8.5mm X200 White          789\n",
       "Name: Quantidade, dtype: int64"
      ]
     },
     "execution_count": 15,
     "metadata": {},
     "output_type": "execute_result"
    }
   ],
   "source": [
    "df.groupby(\"Produto\")[\"Quantidade\"].sum().sort_values(ascending=False)\n",
    "#Vendo a quantidade de cada produto vendido"
   ]
  },
  {
   "cell_type": "code",
   "execution_count": 16,
   "id": "abe42543",
   "metadata": {},
   "outputs": [
    {
     "data": {
      "text/plain": [
       "Data Venda  Marca          \n",
       "2008        Adventure Works             241,528.96\n",
       "            Contoso                      41,130.30\n",
       "            Fabrikam                  1,344,984.43\n",
       "2009        Adventure Works             308,022.40\n",
       "            Contoso                     102,043.60\n",
       "            Fabrikam                    837,145.94\n",
       "Name: Lucro Líquido, dtype: float64"
      ]
     },
     "execution_count": 16,
     "metadata": {},
     "output_type": "execute_result"
    }
   ],
   "source": [
    "df.groupby([df[\"Data Venda\"].dt.year, \"Marca\"])[\"Lucro Líquido\"].sum()\n",
    "#Marcas mais vendidas por ano"
   ]
  },
  {
   "cell_type": "code",
   "execution_count": 17,
   "id": "6c29515a",
   "metadata": {},
   "outputs": [
    {
     "data": {
      "text/plain": [
       "count                 904.00\n",
       "mean                6,620.14\n",
       "std                 4,319.41\n",
       "min                   159.84\n",
       "25%                 3,920.00\n",
       "50%                 5,798.70\n",
       "75%                 7,986.00\n",
       "max                29,400.00\n",
       "Name: Valor Venda, dtype: float64"
      ]
     },
     "execution_count": 17,
     "metadata": {},
     "output_type": "execute_result"
    }
   ],
   "source": [
    "df[\"Valor Venda\"].describe()"
   ]
  },
  {
   "cell_type": "markdown",
   "id": "23024feb",
   "metadata": {},
   "source": [
    "# Plotando gráficos"
   ]
  },
  {
   "cell_type": "code",
   "execution_count": 18,
   "id": "0bb6f2d2",
   "metadata": {},
   "outputs": [
    {
     "data": {
      "image/png": "[encoded data removed]",
      "text/plain": [
       "<Figure size 576x396 with 1 Axes>"
      ]
     },
     "metadata": {},
     "output_type": "display_data"
    }
   ],
   "source": [
    "df.groupby(\"Produto\")[\"Quantidade\"].sum().sort_values(ascending=True).plot.barh(title=\"Total Produtos Vendidos\")\n",
    "plt.xlabel(\"Total\")\n",
    "plt.ylabel(\"Produto\");\n",
    "#gráfico de barras horizontais (barh)"
   ]
  },
  {
   "cell_type": "code",
   "execution_count": 19,
   "id": "96d3e7f7",
   "metadata": {},
   "outputs": [
    {
     "data": {
      "image/png": "[encoded data removed]",
      "text/plain": [
       "<Figure size 576x396 with 1 Axes>"
      ]
     },
     "metadata": {},
     "output_type": "display_data"
    }
   ],
   "source": [
    "df.groupby(df[\"Data Venda\"].dt.year)[\"Lucro Líquido\"].sum().plot.bar(color=\"crimson\")\n",
    "plt.title(\"Lucro x Ano\")\n",
    "plt.xlabel(\"Ano\")\n",
    "plt.ylabel(\"Receita\")\n",
    "plt.xticks(rotation='horizontal');"
   ]
  },
  {
   "cell_type": "code",
   "execution_count": 20,
   "id": "073bf31c",
   "metadata": {},
   "outputs": [],
   "source": [
    "df_2008 = df[df[\"Data Venda\"].dt.year == 2008]\n",
    "#Seleciona apenas as vendas de 2008\n",
    "\n",
    "df_2009 = df[df[\"Data Venda\"].dt.year == 2009]\n",
    "#Seleciona vendas de 2009"
   ]
  },
  {
   "cell_type": "code",
   "execution_count": 21,
   "id": "c467c00e",
   "metadata": {},
   "outputs": [
    {
     "data": {
      "image/png": "[encoded data removed]",
      "text/plain": [
       "<Figure size 576x396 with 1 Axes>"
      ]
     },
     "metadata": {},
     "output_type": "display_data"
    }
   ],
   "source": [
    "df_2008.groupby(df_2008[\"Data Venda\"].dt.month)[\"Lucro Líquido\"].sum().plot(color='darkmagenta', label='Ano 2008')\n",
    "df_2009.groupby(df_2009[\"Data Venda\"].dt.month)[\"Lucro Líquido\"].sum().plot(color='darkturquoise', label='Ano 2009')\n",
    "plt.title(\"Lucro x Mês\")\n",
    "plt.xlabel(\"Mês\")\n",
    "plt.ylabel(\"Lucro Líquido\")\n",
    "plt.legend()\n",
    "plt.show()"
   ]
  },
  {
   "cell_type": "code",
   "execution_count": 22,
   "id": "a41cefda",
   "metadata": {},
   "outputs": [
    {
     "data": {
      "image/png": "[encoded data removed]",
      "text/plain": [
       "<Figure size 576x396 with 1 Axes>"
      ]
     },
     "metadata": {},
     "output_type": "display_data"
    }
   ],
   "source": [
    "df_2009.groupby(\"Marca\")[\"Lucro Líquido\"].sum().plot.bar(title=\"Lucro x Marca\", color=\"teal\")\n",
    "plt.xlabel(\"Marca\")\n",
    "plt.ylabel(\"Lucro\")\n",
    "plt.xticks(rotation='horizontal'); \n",
    "#xticks rotaciona a marcação no eixo x"
   ]
  },
  {
   "cell_type": "markdown",
   "id": "398ceaa4",
   "metadata": {},
   "source": [
    "# identificando outliers"
   ]
  },
  {
   "cell_type": "code",
   "execution_count": 24,
   "id": "70ab3d65",
   "metadata": {},
   "outputs": [
    {
     "data": {
      "image/png": "[encoded data removed]",
      "text/plain": [
       "<Figure size 576x396 with 1 Axes>"
      ]
     },
     "metadata": {},
     "output_type": "display_data"
    }
   ],
   "source": [
    "plt.boxplot(df[\"Dias de Envio\"]);"
   ]
  },
  {
   "cell_type": "code",
   "execution_count": 25,
   "id": "85064b52",
   "metadata": {},
   "outputs": [
    {
     "data": {
      "text/plain": [
       "count                 904.00\n",
       "mean                    8.54\n",
       "std                     3.06\n",
       "min                     4.00\n",
       "25%                     6.00\n",
       "50%                     9.00\n",
       "75%                    11.00\n",
       "max                    20.00\n",
       "Name: Dias de Envio, dtype: float64"
      ]
     },
     "execution_count": 25,
     "metadata": {},
     "output_type": "execute_result"
    }
   ],
   "source": [
    "df[\"Dias de Envio\"].describe()"
   ]
  },
  {
   "cell_type": "code",
   "execution_count": 26,
   "id": "4f0aecd0",
   "metadata": {},
   "outputs": [
    {
     "data": {
      "text/html": [
       "<div>\n",
       "<style scoped>\n",
       "    .dataframe tbody tr th:only-of-type {\n",
       "        vertical-align: middle;\n",
       "    }\n",
       "\n",
       "    .dataframe tbody tr th {\n",
       "        vertical-align: top;\n",
       "    }\n",
       "\n",
       "    .dataframe thead th {\n",
       "        text-align: right;\n",
       "    }\n",
       "</style>\n",
       "<table border=\"1\" class=\"dataframe\">\n",
       "  <thead>\n",
       "    <tr style=\"text-align: right;\">\n",
       "      <th></th>\n",
       "      <th>Data Venda</th>\n",
       "      <th>Data Envio</th>\n",
       "      <th>ID Loja</th>\n",
       "      <th>ID Produto</th>\n",
       "      <th>ID Cliente</th>\n",
       "      <th>No. Venda</th>\n",
       "      <th>Custo Unitário</th>\n",
       "      <th>Preço Unitário</th>\n",
       "      <th>Quantidade</th>\n",
       "      <th>Valor Desconto</th>\n",
       "      <th>Valor Venda</th>\n",
       "      <th>Produto</th>\n",
       "      <th>Fabricante</th>\n",
       "      <th>Marca</th>\n",
       "      <th>Classe</th>\n",
       "      <th>Cor</th>\n",
       "      <th>Dias de Envio</th>\n",
       "      <th>Custo Total</th>\n",
       "      <th>Lucro Bruto</th>\n",
       "      <th>Lucro Líquido</th>\n",
       "    </tr>\n",
       "  </thead>\n",
       "  <tbody>\n",
       "    <tr>\n",
       "      <th>0</th>\n",
       "      <td>2008-05-09</td>\n",
       "      <td>2008-05-29</td>\n",
       "      <td>199</td>\n",
       "      <td>384</td>\n",
       "      <td>18839</td>\n",
       "      <td>200805093CS607</td>\n",
       "      <td>348.58</td>\n",
       "      <td>758.00</td>\n",
       "      <td>6</td>\n",
       "      <td>0.00</td>\n",
       "      <td>4,548.00</td>\n",
       "      <td>Adventure Works Laptop15.4W M1548 Red</td>\n",
       "      <td>Adventure Works</td>\n",
       "      <td>Adventure Works</td>\n",
       "      <td>Regular</td>\n",
       "      <td>Red</td>\n",
       "      <td>20</td>\n",
       "      <td>2,091.48</td>\n",
       "      <td>2,456.52</td>\n",
       "      <td>2,456.52</td>\n",
       "    </tr>\n",
       "  </tbody>\n",
       "</table>\n",
       "</div>"
      ],
      "text/plain": [
       "  Data Venda Data Envio  ID Loja  ID Produto  ID Cliente       No. Venda  \\\n",
       "0 2008-05-09 2008-05-29      199         384       18839  200805093CS607   \n",
       "\n",
       "        Custo Unitário       Preço Unitário  Quantidade       Valor Desconto  \\\n",
       "0               348.58               758.00           6                 0.00   \n",
       "\n",
       "           Valor Venda                                Produto  \\\n",
       "0             4,548.00  Adventure Works Laptop15.4W M1548 Red   \n",
       "\n",
       "        Fabricante            Marca   Classe  Cor  Dias de Envio  \\\n",
       "0  Adventure Works  Adventure Works  Regular  Red             20   \n",
       "\n",
       "           Custo Total          Lucro Bruto        Lucro Líquido  \n",
       "0             2,091.48             2,456.52             2,456.52  "
      ]
     },
     "execution_count": 26,
     "metadata": {},
     "output_type": "execute_result"
    }
   ],
   "source": [
    "df[df[\"Dias de Envio\"] == 20]"
   ]
  },
  {
   "cell_type": "code",
   "execution_count": 27,
   "id": "5edd0576",
   "metadata": {},
   "outputs": [
    {
     "data": {
      "image/png": "[encoded data removed]",
      "text/plain": [
       "<Figure size 576x396 with 1 Axes>"
      ]
     },
     "metadata": {},
     "output_type": "display_data"
    }
   ],
   "source": [
    "plt.hist(df[\"Valor Desconto\"]);"
   ]
  },
  {
   "cell_type": "code",
   "execution_count": 29,
   "id": "a0b7c199",
   "metadata": {},
   "outputs": [
    {
     "data": {
      "text/plain": [
       "count                 904.00\n",
       "mean                  689.12\n",
       "std                   822.36\n",
       "min                     0.00\n",
       "25%                     0.00\n",
       "50%                   461.17\n",
       "75%                 1,005.08\n",
       "max                 6,272.00\n",
       "Name: Valor Desconto, dtype: float64"
      ]
     },
     "execution_count": 29,
     "metadata": {},
     "output_type": "execute_result"
    }
   ],
   "source": [
    "df[\"Valor Desconto\"].describe()"
   ]
  },
  {
   "cell_type": "code",
   "execution_count": 31,
   "id": "e8628835",
   "metadata": {},
   "outputs": [
    {
     "data": {
      "text/html": [
       "<div>\n",
       "<style scoped>\n",
       "    .dataframe tbody tr th:only-of-type {\n",
       "        vertical-align: middle;\n",
       "    }\n",
       "\n",
       "    .dataframe tbody tr th {\n",
       "        vertical-align: top;\n",
       "    }\n",
       "\n",
       "    .dataframe thead th {\n",
       "        text-align: right;\n",
       "    }\n",
       "</style>\n",
       "<table border=\"1\" class=\"dataframe\">\n",
       "  <thead>\n",
       "    <tr style=\"text-align: right;\">\n",
       "      <th></th>\n",
       "      <th>Data Venda</th>\n",
       "      <th>Data Envio</th>\n",
       "      <th>ID Loja</th>\n",
       "      <th>ID Produto</th>\n",
       "      <th>ID Cliente</th>\n",
       "      <th>No. Venda</th>\n",
       "      <th>Custo Unitário</th>\n",
       "      <th>Preço Unitário</th>\n",
       "      <th>Quantidade</th>\n",
       "      <th>Valor Desconto</th>\n",
       "      <th>Valor Venda</th>\n",
       "      <th>Produto</th>\n",
       "      <th>Fabricante</th>\n",
       "      <th>Marca</th>\n",
       "      <th>Classe</th>\n",
       "      <th>Cor</th>\n",
       "      <th>Dias de Envio</th>\n",
       "      <th>Custo Total</th>\n",
       "      <th>Lucro Bruto</th>\n",
       "      <th>Lucro Líquido</th>\n",
       "    </tr>\n",
       "  </thead>\n",
       "  <tbody>\n",
       "    <tr>\n",
       "      <th>339</th>\n",
       "      <td>2008-12-16</td>\n",
       "      <td>2008-12-27</td>\n",
       "      <td>199</td>\n",
       "      <td>1203</td>\n",
       "      <td>18897</td>\n",
       "      <td>200812164CS805</td>\n",
       "      <td>324.69</td>\n",
       "      <td>980.00</td>\n",
       "      <td>32</td>\n",
       "      <td>6,272.00</td>\n",
       "      <td>25,088.00</td>\n",
       "      <td>Fabrikam Trendsetter 2/3'' 17mm X100 Grey</td>\n",
       "      <td>Fabrikam, Inc.</td>\n",
       "      <td>Fabrikam</td>\n",
       "      <td>Regular</td>\n",
       "      <td>Grey</td>\n",
       "      <td>11</td>\n",
       "      <td>10,390.08</td>\n",
       "      <td>14,697.92</td>\n",
       "      <td>8,425.92</td>\n",
       "    </tr>\n",
       "  </tbody>\n",
       "</table>\n",
       "</div>"
      ],
      "text/plain": [
       "    Data Venda Data Envio  ID Loja  ID Produto  ID Cliente       No. Venda  \\\n",
       "339 2008-12-16 2008-12-27      199        1203       18897  200812164CS805   \n",
       "\n",
       "          Custo Unitário       Preço Unitário  Quantidade  \\\n",
       "339               324.69               980.00          32   \n",
       "\n",
       "          Valor Desconto          Valor Venda  \\\n",
       "339             6,272.00            25,088.00   \n",
       "\n",
       "                                       Produto      Fabricante     Marca  \\\n",
       "339  Fabrikam Trendsetter 2/3'' 17mm X100 Grey  Fabrikam, Inc.  Fabrikam   \n",
       "\n",
       "      Classe   Cor  Dias de Envio          Custo Total          Lucro Bruto  \\\n",
       "339  Regular  Grey             11            10,390.08            14,697.92   \n",
       "\n",
       "           Lucro Líquido  \n",
       "339             8,425.92  "
      ]
     },
     "execution_count": 31,
     "metadata": {},
     "output_type": "execute_result"
    }
   ],
   "source": [
    "df[df[\"Valor Desconto\"] == 6272.00]"
   ]
  },
  {
   "cell_type": "code",
   "execution_count": null,
   "id": "ff35a3d8",
   "metadata": {},
   "outputs": [],
   "source": [
    "#salvando arquivo"
   ]
  },
  {
   "cell_type": "code",
   "execution_count": 35,
   "id": "f53a2a83",
   "metadata": {},
   "outputs": [],
   "source": [
    "df.to_csv('datasets/AdventureWorks_final.csv', index=False)"
   ]
  }
 ],
 "metadata": {
  "kernelspec": {
   "display_name": "Python 3 (ipykernel)",
   "language": "python",
   "name": "python3"
  },
  "language_info": {
   "codemirror_mode": {
    "name": "ipython",
    "version": 3
   },
   "file_extension": ".py",
   "mimetype": "text/x-python",
   "name": "python",
   "nbconvert_exporter": "python",
   "pygments_lexer": "ipython3",
   "version": "3.9.12"
  }
 },
 "nbformat": 4,
 "nbformat_minor": 5
}
